{
 "cells": [
  {
   "cell_type": "code",
   "execution_count": 11,
   "id": "5f36257b-c8b6-4a1b-a8a0-817b272a3902",
   "metadata": {},
   "outputs": [],
   "source": [
    "#Import Libraries\n",
    "import numpy as np\n",
    "import pandas as pd\n",
    "import matplotlib.pyplot as plt\n",
    "\n",
    "from sklearn.linear_model import LinearRegression,Ridge,Lasso\n",
    "from sklearn.model_selection import KFold, cross_val_score, train_test_split\n",
    "from sklearn.pipeline import make_pipeline\n",
    "from sklearn.preprocessing import RobustScaler\n",
    "from sklearn.model_selection import GridSearchCV\n",
    "from sklearn.pipeline import Pipeline\n",
    "from sklearn.metrics import mean_squared_error\n",
    "\n",
    "import warnings\n",
    "from warnings import filterwarnings\n",
    "from sklearn.exceptions import DataConversionWarning\n",
    "warnings.filterwarnings(\"ignore\")\n",
    "warnings.simplefilter(action='ignore', category=FutureWarning)\n",
    "warnings.simplefilter(action='ignore', category=DeprecationWarning)\n",
    "warnings.filterwarnings(action='ignore', category=DataConversionWarning)"
   ]
  },
  {
   "cell_type": "code",
   "execution_count": 12,
   "id": "be23d362-0c04-4023-b3d4-51bc53224dab",
   "metadata": {},
   "outputs": [],
   "source": [
    "data = train = pd.read_csv('./processed_data.csv')"
   ]
  },
  {
   "cell_type": "code",
   "execution_count": 13,
   "id": "a363e154-76b7-46e9-a890-7ec2529a8e1c",
   "metadata": {},
   "outputs": [
    {
     "data": {
      "text/html": [
       "<div>\n",
       "<style scoped>\n",
       "    .dataframe tbody tr th:only-of-type {\n",
       "        vertical-align: middle;\n",
       "    }\n",
       "\n",
       "    .dataframe tbody tr th {\n",
       "        vertical-align: top;\n",
       "    }\n",
       "\n",
       "    .dataframe thead th {\n",
       "        text-align: right;\n",
       "    }\n",
       "</style>\n",
       "<table border=\"1\" class=\"dataframe\">\n",
       "  <thead>\n",
       "    <tr style=\"text-align: right;\">\n",
       "      <th></th>\n",
       "      <th>Id</th>\n",
       "      <th>MSSubClass</th>\n",
       "      <th>LotFrontage</th>\n",
       "      <th>LotArea</th>\n",
       "      <th>Street</th>\n",
       "      <th>Alley</th>\n",
       "      <th>LotShape</th>\n",
       "      <th>LandSlope</th>\n",
       "      <th>OverallQual</th>\n",
       "      <th>OverallCond</th>\n",
       "      <th>...</th>\n",
       "      <th>SaleType_ConLw</th>\n",
       "      <th>SaleType_New</th>\n",
       "      <th>SaleType_Oth</th>\n",
       "      <th>SaleType_WD</th>\n",
       "      <th>SaleCondition_Abnorml</th>\n",
       "      <th>SaleCondition_AdjLand</th>\n",
       "      <th>SaleCondition_Alloca</th>\n",
       "      <th>SaleCondition_Family</th>\n",
       "      <th>SaleCondition_Normal</th>\n",
       "      <th>SaleCondition_Partial</th>\n",
       "    </tr>\n",
       "  </thead>\n",
       "  <tbody>\n",
       "    <tr>\n",
       "      <th>0</th>\n",
       "      <td>0.730463</td>\n",
       "      <td>2.750250</td>\n",
       "      <td>5.831328</td>\n",
       "      <td>19.212182</td>\n",
       "      <td>0.730463</td>\n",
       "      <td>0.730463</td>\n",
       "      <td>1.540963</td>\n",
       "      <td>0.0</td>\n",
       "      <td>2.440268</td>\n",
       "      <td>1.820334</td>\n",
       "      <td>...</td>\n",
       "      <td>0</td>\n",
       "      <td>0</td>\n",
       "      <td>0</td>\n",
       "      <td>1</td>\n",
       "      <td>0</td>\n",
       "      <td>0</td>\n",
       "      <td>0</td>\n",
       "      <td>0</td>\n",
       "      <td>1</td>\n",
       "      <td>0</td>\n",
       "    </tr>\n",
       "    <tr>\n",
       "      <th>1</th>\n",
       "      <td>1.194318</td>\n",
       "      <td>1.820334</td>\n",
       "      <td>6.221214</td>\n",
       "      <td>19.712205</td>\n",
       "      <td>0.730463</td>\n",
       "      <td>0.730463</td>\n",
       "      <td>1.540963</td>\n",
       "      <td>0.0</td>\n",
       "      <td>2.259674</td>\n",
       "      <td>2.440268</td>\n",
       "      <td>...</td>\n",
       "      <td>0</td>\n",
       "      <td>0</td>\n",
       "      <td>0</td>\n",
       "      <td>1</td>\n",
       "      <td>0</td>\n",
       "      <td>0</td>\n",
       "      <td>0</td>\n",
       "      <td>0</td>\n",
       "      <td>1</td>\n",
       "      <td>0</td>\n",
       "    </tr>\n",
       "    <tr>\n",
       "      <th>2</th>\n",
       "      <td>1.540963</td>\n",
       "      <td>2.750250</td>\n",
       "      <td>5.914940</td>\n",
       "      <td>20.347241</td>\n",
       "      <td>0.730463</td>\n",
       "      <td>0.730463</td>\n",
       "      <td>0.000000</td>\n",
       "      <td>0.0</td>\n",
       "      <td>2.440268</td>\n",
       "      <td>1.820334</td>\n",
       "      <td>...</td>\n",
       "      <td>0</td>\n",
       "      <td>0</td>\n",
       "      <td>0</td>\n",
       "      <td>1</td>\n",
       "      <td>0</td>\n",
       "      <td>0</td>\n",
       "      <td>0</td>\n",
       "      <td>0</td>\n",
       "      <td>1</td>\n",
       "      <td>0</td>\n",
       "    </tr>\n",
       "    <tr>\n",
       "      <th>3</th>\n",
       "      <td>1.820334</td>\n",
       "      <td>2.885846</td>\n",
       "      <td>5.684507</td>\n",
       "      <td>19.691553</td>\n",
       "      <td>0.730463</td>\n",
       "      <td>0.730463</td>\n",
       "      <td>0.000000</td>\n",
       "      <td>0.0</td>\n",
       "      <td>2.440268</td>\n",
       "      <td>1.820334</td>\n",
       "      <td>...</td>\n",
       "      <td>0</td>\n",
       "      <td>0</td>\n",
       "      <td>0</td>\n",
       "      <td>1</td>\n",
       "      <td>1</td>\n",
       "      <td>0</td>\n",
       "      <td>0</td>\n",
       "      <td>0</td>\n",
       "      <td>0</td>\n",
       "      <td>0</td>\n",
       "    </tr>\n",
       "    <tr>\n",
       "      <th>4</th>\n",
       "      <td>2.055642</td>\n",
       "      <td>2.750250</td>\n",
       "      <td>6.314735</td>\n",
       "      <td>21.325160</td>\n",
       "      <td>0.730463</td>\n",
       "      <td>0.730463</td>\n",
       "      <td>0.000000</td>\n",
       "      <td>0.0</td>\n",
       "      <td>2.602594</td>\n",
       "      <td>1.820334</td>\n",
       "      <td>...</td>\n",
       "      <td>0</td>\n",
       "      <td>0</td>\n",
       "      <td>0</td>\n",
       "      <td>1</td>\n",
       "      <td>0</td>\n",
       "      <td>0</td>\n",
       "      <td>0</td>\n",
       "      <td>0</td>\n",
       "      <td>1</td>\n",
       "      <td>0</td>\n",
       "    </tr>\n",
       "  </tbody>\n",
       "</table>\n",
       "<p>5 rows × 222 columns</p>\n",
       "</div>"
      ],
      "text/plain": [
       "         Id  MSSubClass  LotFrontage    LotArea    Street     Alley  LotShape  \\\n",
       "0  0.730463    2.750250     5.831328  19.212182  0.730463  0.730463  1.540963   \n",
       "1  1.194318    1.820334     6.221214  19.712205  0.730463  0.730463  1.540963   \n",
       "2  1.540963    2.750250     5.914940  20.347241  0.730463  0.730463  0.000000   \n",
       "3  1.820334    2.885846     5.684507  19.691553  0.730463  0.730463  0.000000   \n",
       "4  2.055642    2.750250     6.314735  21.325160  0.730463  0.730463  0.000000   \n",
       "\n",
       "   LandSlope  OverallQual  OverallCond  ...  SaleType_ConLw  SaleType_New  \\\n",
       "0        0.0     2.440268     1.820334  ...               0             0   \n",
       "1        0.0     2.259674     2.440268  ...               0             0   \n",
       "2        0.0     2.440268     1.820334  ...               0             0   \n",
       "3        0.0     2.440268     1.820334  ...               0             0   \n",
       "4        0.0     2.602594     1.820334  ...               0             0   \n",
       "\n",
       "   SaleType_Oth  SaleType_WD  SaleCondition_Abnorml  SaleCondition_AdjLand  \\\n",
       "0             0            1                      0                      0   \n",
       "1             0            1                      0                      0   \n",
       "2             0            1                      0                      0   \n",
       "3             0            1                      1                      0   \n",
       "4             0            1                      0                      0   \n",
       "\n",
       "   SaleCondition_Alloca  SaleCondition_Family  SaleCondition_Normal  \\\n",
       "0                     0                     0                     1   \n",
       "1                     0                     0                     1   \n",
       "2                     0                     0                     1   \n",
       "3                     0                     0                     0   \n",
       "4                     0                     0                     1   \n",
       "\n",
       "   SaleCondition_Partial  \n",
       "0                      0  \n",
       "1                      0  \n",
       "2                      0  \n",
       "3                      0  \n",
       "4                      0  \n",
       "\n",
       "[5 rows x 222 columns]"
      ]
     },
     "execution_count": 13,
     "metadata": {},
     "output_type": "execute_result"
    }
   ],
   "source": [
    "data.head()"
   ]
  },
  {
   "cell_type": "code",
   "execution_count": 14,
   "id": "873e9d83-cb98-4dc3-ad33-1c907e89e387",
   "metadata": {},
   "outputs": [],
   "source": [
    "# Data X, Y\n",
    "X = data.loc[:, data.columns != 'SalePrice' ].values\n",
    "Y = data.SalePrice.values"
   ]
  },
  {
   "cell_type": "code",
   "execution_count": 15,
   "id": "b4c8a395-ea8d-4e17-b396-69db128bb5c2",
   "metadata": {},
   "outputs": [],
   "source": [
    "#Cross Validation\n",
    "n_folds = 5\n",
    "\n",
    "def rmse_cv(model):\n",
    "    kf = KFold(n_folds, shuffle=True, random_state=42).get_n_splits(train.values)\n",
    "    rmse= np.sqrt(-cross_val_score(model, X, Y, scoring=\"neg_mean_squared_error\", cv = kf))\n",
    "    return(rmse)"
   ]
  },
  {
   "cell_type": "markdown",
   "id": "9dcf422b-318a-4033-997d-cda51968072d",
   "metadata": {},
   "source": [
    "## Simple Linear Rgression"
   ]
  },
  {
   "cell_type": "code",
   "execution_count": 16,
   "id": "da8da511-cdf1-4772-92c7-6bb4cf30e10f",
   "metadata": {},
   "outputs": [
    {
     "name": "stdout",
     "output_type": "stream",
     "text": [
      "\n",
      "Lasso score: 0.0141 (0.0012)\n",
      "\n"
     ]
    }
   ],
   "source": [
    "linear = make_pipeline(RobustScaler(), LinearRegression())\n",
    "score = rmse_cv(linear)\n",
    "print(\"\\nLasso score: {:.4f} ({:.4f})\\n\".format(score.mean(), score.std()))"
   ]
  },
  {
   "cell_type": "markdown",
   "id": "537efcbf-fbf4-4148-b572-da6237c70791",
   "metadata": {},
   "source": [
    "## Lasso"
   ]
  },
  {
   "cell_type": "code",
   "execution_count": 17,
   "id": "6931fd79-db3a-4bc7-ae12-1087ce6f6a6b",
   "metadata": {
    "tags": []
   },
   "outputs": [
    {
     "name": "stdout",
     "output_type": "stream",
     "text": [
      "{'lasso__alpha': 0.001, 'lasso__max_iter': 50, 'lasso__normalize': False}\n"
     ]
    }
   ],
   "source": [
    "#lasso model using GridSearchCV\n",
    "lasso_pipe = Pipeline([(\"scaler\", RobustScaler()),(\"lasso\",Lasso())])\n",
    "\n",
    "alphas = np.logspace(-3,5, 20)\n",
    "\n",
    "params = {'lasso__max_iter':[50,100,1000],\n",
    "          'lasso__alpha':alphas,\n",
    "          'lasso__normalize':[True, False]}\n",
    "\n",
    "#Hyper parameter tuning using GridSearchCV\n",
    "lasso_grid = GridSearchCV(lasso_pipe,\n",
    "                         params,\n",
    "                         scoring = 'neg_mean_squared_error',\n",
    "                         cv=n_folds)\n",
    "\n",
    "\n",
    "lasso_grid.fit(X,Y)\n",
    "print (lasso_grid.best_params_)"
   ]
  },
  {
   "cell_type": "code",
   "execution_count": 18,
   "id": "4e83f92a-8780-454d-86aa-e216dbc88f0e",
   "metadata": {},
   "outputs": [
    {
     "name": "stdout",
     "output_type": "stream",
     "text": [
      "\n",
      "Lasso score: 0.0147 (0.0008)\n",
      "\n"
     ]
    }
   ],
   "source": [
    "lasso = make_pipeline(RobustScaler(), Lasso(alpha =lasso_grid.best_params_['lasso__alpha'], max_iter = lasso_grid.best_params_['lasso__max_iter'], normalize = lasso_grid.best_params_['lasso__normalize'], random_state=1))\n",
    "score = rmse_cv(lasso)\n",
    "print(\"\\nLasso score: {:.4f} ({:.4f})\\n\".format(score.mean(), score.std()))"
   ]
  },
  {
   "cell_type": "markdown",
   "id": "c04137a8-4669-4ecd-8b8a-75d76264db55",
   "metadata": {},
   "source": [
    "## Ridge"
   ]
  },
  {
   "cell_type": "code",
   "execution_count": 20,
   "id": "ee69c1ff-0322-40db-8e52-1b7f219048ee",
   "metadata": {},
   "outputs": [
    {
     "name": "stdout",
     "output_type": "stream",
     "text": [
      "{'ridge__alpha': 16.23776739188721, 'ridge__max_iter': 50}\n"
     ]
    }
   ],
   "source": [
    "#Ridge model using GridSearchCV\n",
    "ridge_pipe = Pipeline([(\"scaler\", RobustScaler()),(\"ridge\",Ridge())])\n",
    "\n",
    "\n",
    "#Hyper parameter tuning using GridSearchCV\n",
    "params = {'ridge__max_iter':[50,100,1000],\n",
    "          'ridge__alpha':alphas}\n",
    "\n",
    "ridge_grid = GridSearchCV(ridge_pipe,\n",
    "                         params,\n",
    "                         scoring = 'neg_mean_squared_error',\n",
    "                         cv=n_folds)\n",
    "\n",
    "\n",
    "ridge_grid.fit(X,Y)\n",
    "print (ridge_grid.best_params_)"
   ]
  },
  {
   "cell_type": "code",
   "execution_count": 21,
   "id": "8715081e-3b67-4de9-941d-3c6f44026e8d",
   "metadata": {},
   "outputs": [
    {
     "name": "stdout",
     "output_type": "stream",
     "text": [
      "\n",
      "Ridge score: 0.0130 (0.0008)\n",
      "\n"
     ]
    }
   ],
   "source": [
    "ridge = make_pipeline(RobustScaler(), Ridge(alpha =ridge_grid.best_params_['ridge__alpha'], max_iter = ridge_grid.best_params_['ridge__max_iter'], random_state=1))\n",
    "score = rmse_cv(ridge)\n",
    "print(\"\\nRidge score: {:.4f} ({:.4f})\\n\".format(score.mean(), score.std()))"
   ]
  },
  {
   "cell_type": "markdown",
   "id": "864cda4e-c3f0-46ad-8d85-11a5dec2f376",
   "metadata": {},
   "source": [
    "## Compare Lasso and Ridge"
   ]
  },
  {
   "cell_type": "code",
   "execution_count": 22,
   "id": "4e24f91c-0593-4b5c-87bf-db6888354b29",
   "metadata": {},
   "outputs": [],
   "source": [
    "lasso_scores = []\n",
    "lasso = Lasso(normalize = True)\n",
    "#lasso = Lasso(alpha =lasso_grid.best_params_['lasso__alpha'], max_iter = lasso_grid.best_params_['lasso__max_iter'], normalize = lasso_grid.best_params_['lasso__normalize'], random_state=1)\n",
    "for alpha in alphas:\n",
    "    lasso.alpha = alpha\n",
    "    val = np.mean(cross_val_score(lasso, X, Y,scoring=\"neg_mean_squared_error\", cv = n_folds))\n",
    "    lasso_scores.append(val)"
   ]
  },
  {
   "cell_type": "code",
   "execution_count": 23,
   "id": "54a12fe7-49d7-4f34-9d4d-ca4da249031c",
   "metadata": {},
   "outputs": [],
   "source": [
    "ridge_scores = []\n",
    "ridge = Ridge(normalize = True)\n",
    "#ridge = Ridge(alpha =ridge_grid.best_params_['ridge__alpha'], max_iter = ridge_grid.best_params_['ridge__max_iter'], random_state=1)\n",
    "for alpha in alphas:\n",
    "    ridge.alpha = alpha\n",
    "    val = np.mean(cross_val_score(ridge, X, Y,scoring=\"neg_mean_squared_error\", cv = n_folds))\n",
    "    ridge_scores.append(val)"
   ]
  },
  {
   "cell_type": "code",
   "execution_count": 26,
   "id": "bd35bff1-f809-4240-94e9-c15353012586",
   "metadata": {},
   "outputs": [
    {
     "data": {
      "image/png": "[encoded data removed]",
      "text/plain": [
       "<Figure size 576x576 with 1 Axes>"
      ]
     },
     "metadata": {
      "needs_background": "light"
     },
     "output_type": "display_data"
    }
   ],
   "source": [
    "plt.figure(figsize=(8, 8))\n",
    "plt.plot(alphas, ridge_scores, marker = 'D', label = \"Ridge\")\n",
    "plt.plot(alphas, lasso_scores, marker = 'D', label = \"Lasso\")\n",
    "plt.legend()\n",
    "plt.xlim([-100, 1000])\n",
    "plt.xlabel('Alpha')\n",
    "plt.ylabel('Negative Mean Squared Error')\n",
    "plt.show()"
   ]
  },
  {
   "cell_type": "code",
   "execution_count": null,
   "id": "2c25ee8d-7114-451b-a877-d8f4d5750c1f",
   "metadata": {},
   "outputs": [],
   "source": []
  }
 ],
 "metadata": {
  "kernelspec": {
   "display_name": "Python 3.8.13 (tensorflow)",
   "language": "python",
   "name": "tensorflow"
  },
  "language_info": {
   "codemirror_mode": {
    "name": "ipython",
    "version": 3
   },
   "file_extension": ".py",
   "mimetype": "text/x-python",
   "name": "python",
   "nbconvert_exporter": "python",
   "pygments_lexer": "ipython3",
   "version": "3.8.13"
  }
 },
 "nbformat": 4,
 "nbformat_minor": 5
}
