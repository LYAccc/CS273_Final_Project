{
 "cells": [
  {
   "cell_type": "code",
   "execution_count": 1,
   "id": "5f36257b-c8b6-4a1b-a8a0-817b272a3902",
   "metadata": {},
   "outputs": [],
   "source": [
    "#Import Libraries\n",
    "import numpy as np\n",
    "import pandas as pd\n",
    "import matplotlib.pyplot as plt\n",
    "\n",
    "from sklearn.linear_model import LinearRegression,Ridge,Lasso\n",
    "from sklearn.model_selection import KFold, cross_val_score, train_test_split\n",
    "from sklearn.pipeline import make_pipeline\n",
    "from sklearn.preprocessing import RobustScaler\n",
    "from sklearn.model_selection import GridSearchCV\n",
    "from sklearn.pipeline import Pipeline\n",
    "from sklearn.metrics import mean_squared_error\n",
    "\n",
    "import warnings\n",
    "from warnings import filterwarnings\n",
    "from sklearn.exceptions import DataConversionWarning\n",
    "warnings.filterwarnings(\"ignore\")\n",
    "warnings.simplefilter(action='ignore', category=FutureWarning)\n",
    "warnings.simplefilter(action='ignore', category=DeprecationWarning)\n",
    "warnings.filterwarnings(action='ignore', category=DataConversionWarning)"
   ]
  },
  {
   "cell_type": "code",
   "execution_count": 2,
   "id": "be23d362-0c04-4023-b3d4-51bc53224dab",
   "metadata": {},
   "outputs": [],
   "source": [
    "#data = pd.read_csv('./processed_data.csv')"
   ]
  },
  {
   "cell_type": "code",
   "execution_count": 3,
   "id": "a363e154-76b7-46e9-a890-7ec2529a8e1c",
   "metadata": {},
   "outputs": [],
   "source": [
    "#data.head()"
   ]
  },
  {
   "cell_type": "code",
   "execution_count": 4,
   "id": "873e9d83-cb98-4dc3-ad33-1c907e89e387",
   "metadata": {},
   "outputs": [],
   "source": [
    "# Data X, Y\n",
    "#X = data.loc[:, data.columns != 'SalePrice' ].values\n",
    "#Y = data.SalePrice.values\n",
    "X = pd.read_csv('./processed_train_x.csv')\n",
    "Y = pd.read_csv('./processed_train_y.csv')"
   ]
  },
  {
   "cell_type": "code",
   "execution_count": 5,
   "id": "b4c8a395-ea8d-4e17-b396-69db128bb5c2",
   "metadata": {},
   "outputs": [],
   "source": [
    "#Cross Validation\n",
    "n_folds = 5\n",
    "\n",
    "def rmse_cv(model):\n",
    "    kf = KFold(n_folds, shuffle=True, random_state=42).get_n_splits(X.values)\n",
    "    rmse= np.sqrt(-cross_val_score(model, X.values, Y.values, scoring=\"neg_mean_squared_error\", cv = kf))\n",
    "    return(rmse)"
   ]
  },
  {
   "cell_type": "markdown",
   "id": "9dcf422b-318a-4033-997d-cda51968072d",
   "metadata": {},
   "source": [
    "## Simple Linear Rgression"
   ]
  },
  {
   "cell_type": "code",
   "execution_count": 6,
   "id": "da8da511-cdf1-4772-92c7-6bb4cf30e10f",
   "metadata": {},
   "outputs": [
    {
     "name": "stdout",
     "output_type": "stream",
     "text": [
      "\n",
      "Lasso score: 0.1242 (0.0104)\n",
      "\n"
     ]
    }
   ],
   "source": [
    "linear = make_pipeline(RobustScaler(), LinearRegression())\n",
    "score = rmse_cv(linear)\n",
    "print(\"\\nLasso score: {:.4f} ({:.4f})\\n\".format(score.mean(), score.std()))"
   ]
  },
  {
   "cell_type": "markdown",
   "id": "537efcbf-fbf4-4148-b572-da6237c70791",
   "metadata": {},
   "source": [
    "## Lasso"
   ]
  },
  {
   "cell_type": "code",
   "execution_count": 7,
   "id": "6931fd79-db3a-4bc7-ae12-1087ce6f6a6b",
   "metadata": {
    "tags": []
   },
   "outputs": [
    {
     "name": "stdout",
     "output_type": "stream",
     "text": [
      "{'lasso__alpha': 0.001, 'lasso__max_iter': 1000, 'lasso__normalize': False}\n"
     ]
    }
   ],
   "source": [
    "#lasso model using GridSearchCV\n",
    "lasso_pipe = Pipeline([(\"scaler\", RobustScaler()),(\"lasso\",Lasso())])\n",
    "\n",
    "alphas = np.logspace(-3,5, 20)\n",
    "\n",
    "params = {'lasso__max_iter':[50,100,1000],\n",
    "          'lasso__alpha':alphas,\n",
    "          'lasso__normalize':[True, False]}\n",
    "\n",
    "#Hyper parameter tuning using GridSearchCV\n",
    "lasso_grid = GridSearchCV(lasso_pipe,\n",
    "                         params,\n",
    "                         scoring = 'neg_mean_squared_error',\n",
    "                         cv=n_folds)\n",
    "\n",
    "\n",
    "lasso_grid.fit(X,Y)\n",
    "print (lasso_grid.best_params_)"
   ]
  },
  {
   "cell_type": "code",
   "execution_count": 8,
   "id": "4e83f92a-8780-454d-86aa-e216dbc88f0e",
   "metadata": {},
   "outputs": [
    {
     "name": "stdout",
     "output_type": "stream",
     "text": [
      "\n",
      "Lasso score: 0.1134 (0.0074)\n",
      "\n"
     ]
    }
   ],
   "source": [
    "lasso = make_pipeline(RobustScaler(), Lasso(alpha =lasso_grid.best_params_['lasso__alpha'], max_iter = lasso_grid.best_params_['lasso__max_iter'], normalize = lasso_grid.best_params_['lasso__normalize'], random_state=1))\n",
    "score = rmse_cv(lasso)\n",
    "print(\"\\nLasso score: {:.4f} ({:.4f})\\n\".format(score.mean(), score.std()))"
   ]
  },
  {
   "cell_type": "markdown",
   "id": "c04137a8-4669-4ecd-8b8a-75d76264db55",
   "metadata": {},
   "source": [
    "## Ridge"
   ]
  },
  {
   "cell_type": "code",
   "execution_count": 9,
   "id": "ee69c1ff-0322-40db-8e52-1b7f219048ee",
   "metadata": {},
   "outputs": [
    {
     "name": "stdout",
     "output_type": "stream",
     "text": [
      "{'ridge__alpha': 16.23776739188721, 'ridge__max_iter': 50}\n"
     ]
    }
   ],
   "source": [
    "#Ridge model using GridSearchCV\n",
    "ridge_pipe = Pipeline([(\"scaler\", RobustScaler()),(\"ridge\",Ridge())])\n",
    "\n",
    "\n",
    "#Hyper parameter tuning using GridSearchCV\n",
    "params = {'ridge__max_iter':[50,100,1000],\n",
    "          'ridge__alpha':alphas}\n",
    "\n",
    "ridge_grid = GridSearchCV(ridge_pipe,\n",
    "                         params,\n",
    "                         scoring = 'neg_mean_squared_error',\n",
    "                         cv=n_folds)\n",
    "\n",
    "\n",
    "ridge_grid.fit(X,Y)\n",
    "print (ridge_grid.best_params_)"
   ]
  },
  {
   "cell_type": "code",
   "execution_count": 10,
   "id": "8715081e-3b67-4de9-941d-3c6f44026e8d",
   "metadata": {},
   "outputs": [
    {
     "name": "stdout",
     "output_type": "stream",
     "text": [
      "\n",
      "Ridge score: 0.1140 (0.0073)\n",
      "\n"
     ]
    }
   ],
   "source": [
    "ridge = make_pipeline(RobustScaler(), Ridge(alpha =ridge_grid.best_params_['ridge__alpha'], max_iter = ridge_grid.best_params_['ridge__max_iter'], random_state=1))\n",
    "score = rmse_cv(ridge)\n",
    "print(\"\\nRidge score: {:.4f} ({:.4f})\\n\".format(score.mean(), score.std()))"
   ]
  },
  {
   "cell_type": "markdown",
   "id": "864cda4e-c3f0-46ad-8d85-11a5dec2f376",
   "metadata": {},
   "source": [
    "## Compare Lasso and Ridge"
   ]
  },
  {
   "cell_type": "markdown",
   "id": "eed2aec0-6852-4423-99a6-f9c44816ad28",
   "metadata": {},
   "source": [
    "### Changing Alpha"
   ]
  },
  {
   "cell_type": "code",
   "execution_count": 11,
   "id": "4e24f91c-0593-4b5c-87bf-db6888354b29",
   "metadata": {},
   "outputs": [],
   "source": [
    "lasso_scores = []\n",
    "lasso = Lasso(normalize = True)\n",
    "#lasso = Lasso(alpha =lasso_grid.best_params_['lasso__alpha'], max_iter = lasso_grid.best_params_['lasso__max_iter'], normalize = lasso_grid.best_params_['lasso__normalize'], random_state=1)\n",
    "for alpha in alphas:\n",
    "    lasso.alpha = alpha\n",
    "    val = np.mean(-cross_val_score(lasso, X, Y,scoring=\"neg_mean_squared_error\", cv = n_folds))\n",
    "    lasso_scores.append(val)"
   ]
  },
  {
   "cell_type": "code",
   "execution_count": 12,
   "id": "54a12fe7-49d7-4f34-9d4d-ca4da249031c",
   "metadata": {},
   "outputs": [],
   "source": [
    "ridge_scores = []\n",
    "ridge = Ridge(normalize = True)\n",
    "#ridge = Ridge(alpha =ridge_grid.best_params_['ridge__alpha'], max_iter = ridge_grid.best_params_['ridge__max_iter'], random_state=1)\n",
    "for alpha in alphas:\n",
    "    ridge.alpha = alpha\n",
    "    val = np.mean(-cross_val_score(ridge, X, Y,scoring=\"neg_mean_squared_error\", cv = n_folds))\n",
    "    ridge_scores.append(val)"
   ]
  },
  {
   "cell_type": "code",
   "execution_count": 13,
   "id": "bd35bff1-f809-4240-94e9-c15353012586",
   "metadata": {},
   "outputs": [
    {
     "data": {
      "image/png": "[encoded data removed]",
      "text/plain": [
       "<Figure size 576x576 with 1 Axes>"
      ]
     },
     "metadata": {
      "needs_background": "light"
     },
     "output_type": "display_data"
    }
   ],
   "source": [
    "plt.figure(figsize=(8, 8))\n",
    "plt.plot(alphas, ridge_scores, marker = 'D', label = \"Ridge\")\n",
    "plt.plot(alphas, lasso_scores, marker = 'D', label = \"Lasso\")\n",
    "plt.legend()\n",
    "plt.xlim([-100, 1000])\n",
    "plt.xlabel('Alpha')\n",
    "plt.ylabel('Mean Squared Error')\n",
    "plt.title('MSE - Alpha')\n",
    "plt.show()"
   ]
  },
  {
   "cell_type": "markdown",
   "id": "a6a7aa2a-26b5-49e1-b8e4-5f6c15e610cf",
   "metadata": {},
   "source": [
    "### Changing max_iter"
   ]
  },
  {
   "cell_type": "code",
   "execution_count": 14,
   "id": "d6280636-51e0-4bf1-b224-11c305ef6568",
   "metadata": {},
   "outputs": [],
   "source": [
    "max_iter_list = [10, 50, 100, 250, 500, 750, 1000]\n",
    "\n",
    "lasso_scores = []\n",
    "lasso = Lasso(normalize = True)\n",
    "#lasso = Lasso(alpha =lasso_grid.best_params_['lasso__alpha'], max_iter = lasso_grid.best_params_['lasso__max_iter'], normalize = lasso_grid.best_params_['lasso__normalize'], random_state=1)\n",
    "for m_i in max_iter_list:\n",
    "    lasso.max_iter = m_i\n",
    "    val = np.mean(-cross_val_score(lasso, X, Y,scoring=\"neg_mean_squared_error\", cv = n_folds))\n",
    "    lasso_scores.append(val)"
   ]
  },
  {
   "cell_type": "code",
   "execution_count": 15,
   "id": "7a7dcaff-be88-45ac-9fbd-546bf8e7e3eb",
   "metadata": {},
   "outputs": [],
   "source": [
    "ridge_scores = []\n",
    "ridge = Ridge(normalize = True)\n",
    "#ridge = Ridge(alpha =ridge_grid.best_params_['ridge__alpha'], max_iter = ridge_grid.best_params_['ridge__max_iter'], random_state=1)\n",
    "for m_i in max_iter_list:\n",
    "    ridge.max_iter = m_i\n",
    "    val = np.mean(-cross_val_score(ridge, X, Y,scoring=\"neg_mean_squared_error\", cv = n_folds))\n",
    "    ridge_scores.append(val)"
   ]
  },
  {
   "cell_type": "code",
   "execution_count": 16,
   "id": "90a16d9e-d7c6-4a9b-befd-6c169989e5c7",
   "metadata": {},
   "outputs": [
    {
     "data": {
      "image/png": "[encoded data removed]",
      "text/plain": [
       "<Figure size 576x576 with 1 Axes>"
      ]
     },
     "metadata": {
      "needs_background": "light"
     },
     "output_type": "display_data"
    }
   ],
   "source": [
    "plt.figure(figsize=(8, 8))\n",
    "plt.plot(max_iter_list, ridge_scores, marker = 'D', label = \"Ridge\")\n",
    "plt.plot(max_iter_list, lasso_scores, marker = 'D', label = \"Lasso\")\n",
    "plt.legend()\n",
    "plt.xlim([-100, 1000])\n",
    "plt.xlabel('max_iter')\n",
    "plt.ylabel('Mean Squared Error')\n",
    "plt.title('MSE - max_iter')\n",
    "plt.show()"
   ]
  },
  {
   "cell_type": "code",
   "execution_count": 17,
   "id": "04dbf99d-f7c9-4560-915a-9188687885d0",
   "metadata": {},
   "outputs": [],
   "source": [
    "pred = ridge_grid.predict(X)"
   ]
  },
  {
   "cell_type": "code",
   "execution_count": 18,
   "id": "a021126d-2656-4af6-aa7c-47f16d3abfa9",
   "metadata": {},
   "outputs": [
    {
     "data": {
      "text/plain": [
       "array([[12.24955835],\n",
       "       [12.13669462],\n",
       "       [12.30412663],\n",
       "       ...,\n",
       "       [12.42088153],\n",
       "       [11.84200211],\n",
       "       [11.90377975]])"
      ]
     },
     "execution_count": 18,
     "metadata": {},
     "output_type": "execute_result"
    }
   ],
   "source": [
    "pred"
   ]
  },
  {
   "cell_type": "code",
   "execution_count": 19,
   "id": "2f2ddf75-8166-480e-86eb-4a3bc366ea08",
   "metadata": {},
   "outputs": [
    {
     "data": {
      "text/plain": [
       "array([[208888.01239709],\n",
       "       [186593.78479289],\n",
       "       [220603.46621943],\n",
       "       ...,\n",
       "       [247923.99168789],\n",
       "       [138967.43642944],\n",
       "       [147823.30959074]])"
      ]
     },
     "execution_count": 19,
     "metadata": {},
     "output_type": "execute_result"
    }
   ],
   "source": [
    "np.expm1(pred)"
   ]
  },
  {
   "cell_type": "code",
   "execution_count": null,
   "id": "e644c40f-89a6-4d2a-907e-f044efe34df1",
   "metadata": {},
   "outputs": [],
   "source": []
  }
 ],
 "metadata": {
  "kernelspec": {
   "display_name": "Python 3.8.13 (tensorflow)",
   "language": "python",
   "name": "tensorflow"
  },
  "language_info": {
   "codemirror_mode": {
    "name": "ipython",
    "version": 3
   },
   "file_extension": ".py",
   "mimetype": "text/x-python",
   "name": "python",
   "nbconvert_exporter": "python",
   "pygments_lexer": "ipython3",
   "version": "3.8.13"
  }
 },
 "nbformat": 4,
 "nbformat_minor": 5
}
